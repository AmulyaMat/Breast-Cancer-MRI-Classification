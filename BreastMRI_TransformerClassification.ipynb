{
  "cells": [
    {
      "cell_type": "markdown",
      "metadata": {
        "id": "view-in-github",
        "colab_type": "text"
      },
      "source": [
        "<a href=\"https://colab.research.google.com/github/AmulyaMat/Breast-Cancer-MRI-Classification/blob/main/BreastMRI_TransformerClassification.ipynb\" target=\"_parent\"><img src=\"https://colab.research.google.com/assets/colab-badge.svg\" alt=\"Open In Colab\"/></a>"
      ]
    },
    {
      "cell_type": "markdown",
      "metadata": {
        "id": "sfwBdRqX2clx"
      },
      "source": [
        "# **Predicting Cancer Reccurance risk for Real and Synthetic Breast MRI**"
      ]
    },
    {
      "cell_type": "markdown",
      "metadata": {
        "id": "XEgta_wr24t7"
      },
      "source": [
        "### 1.   Mounting files from colab\n",
        "\n"
      ]
    },
    {
      "cell_type": "code",
      "execution_count": 1,
      "metadata": {
        "colab": {
          "base_uri": "https://localhost:8080/"
        },
        "id": "oSceTu7QoHpB",
        "outputId": "e6830ca0-90b4-4234-a1d6-e6be4337c3f4"
      },
      "outputs": [
        {
          "output_type": "stream",
          "name": "stdout",
          "text": [
            "Mounted at /content/drive\n"
          ]
        }
      ],
      "source": [
        "from google.colab import drive\n",
        "drive.mount('/content/drive')"
      ]
    },
    {
      "cell_type": "markdown",
      "metadata": {
        "id": "eMogGe733Cyh"
      },
      "source": [
        "### 2. Installing Pytorch image models and importing libraries"
      ]
    },
    {
      "cell_type": "code",
      "execution_count": 2,
      "metadata": {
        "colab": {
          "base_uri": "https://localhost:8080/"
        },
        "id": "SuOgmVV-VFYH",
        "outputId": "4a69b152-75f1-4f41-9a0e-fb08c08b7b18"
      },
      "outputs": [
        {
          "output_type": "stream",
          "name": "stdout",
          "text": [
            "Collecting timm\n",
            "  Downloading timm-1.0.9-py3-none-any.whl.metadata (42 kB)\n",
            "\u001b[?25l     \u001b[90m━━━━━━━━━━━━━━━━━━━━━━━━━━━━━━━━━━━━━━━━\u001b[0m \u001b[32m0.0/42.4 kB\u001b[0m \u001b[31m?\u001b[0m eta \u001b[36m-:--:--\u001b[0m\r\u001b[2K     \u001b[90m━━━━━━━━━━━━━━━━━━━━━━━━━━━━━━━━━━━━━━━━\u001b[0m \u001b[32m42.4/42.4 kB\u001b[0m \u001b[31m1.4 MB/s\u001b[0m eta \u001b[36m0:00:00\u001b[0m\n",
            "\u001b[?25hRequirement already satisfied: torch in /usr/local/lib/python3.10/dist-packages (from timm) (2.4.0+cu121)\n",
            "Requirement already satisfied: torchvision in /usr/local/lib/python3.10/dist-packages (from timm) (0.19.0+cu121)\n",
            "Requirement already satisfied: pyyaml in /usr/local/lib/python3.10/dist-packages (from timm) (6.0.2)\n",
            "Requirement already satisfied: huggingface_hub in /usr/local/lib/python3.10/dist-packages (from timm) (0.24.6)\n",
            "Requirement already satisfied: safetensors in /usr/local/lib/python3.10/dist-packages (from timm) (0.4.4)\n",
            "Requirement already satisfied: filelock in /usr/local/lib/python3.10/dist-packages (from huggingface_hub->timm) (3.15.4)\n",
            "Requirement already satisfied: fsspec>=2023.5.0 in /usr/local/lib/python3.10/dist-packages (from huggingface_hub->timm) (2024.6.1)\n",
            "Requirement already satisfied: packaging>=20.9 in /usr/local/lib/python3.10/dist-packages (from huggingface_hub->timm) (24.1)\n",
            "Requirement already satisfied: requests in /usr/local/lib/python3.10/dist-packages (from huggingface_hub->timm) (2.32.3)\n",
            "Requirement already satisfied: tqdm>=4.42.1 in /usr/local/lib/python3.10/dist-packages (from huggingface_hub->timm) (4.66.5)\n",
            "Requirement already satisfied: typing-extensions>=3.7.4.3 in /usr/local/lib/python3.10/dist-packages (from huggingface_hub->timm) (4.12.2)\n",
            "Requirement already satisfied: sympy in /usr/local/lib/python3.10/dist-packages (from torch->timm) (1.13.2)\n",
            "Requirement already satisfied: networkx in /usr/local/lib/python3.10/dist-packages (from torch->timm) (3.3)\n",
            "Requirement already satisfied: jinja2 in /usr/local/lib/python3.10/dist-packages (from torch->timm) (3.1.4)\n",
            "Requirement already satisfied: numpy in /usr/local/lib/python3.10/dist-packages (from torchvision->timm) (1.26.4)\n",
            "Requirement already satisfied: pillow!=8.3.*,>=5.3.0 in /usr/local/lib/python3.10/dist-packages (from torchvision->timm) (9.4.0)\n",
            "Requirement already satisfied: MarkupSafe>=2.0 in /usr/local/lib/python3.10/dist-packages (from jinja2->torch->timm) (2.1.5)\n",
            "Requirement already satisfied: charset-normalizer<4,>=2 in /usr/local/lib/python3.10/dist-packages (from requests->huggingface_hub->timm) (3.3.2)\n",
            "Requirement already satisfied: idna<4,>=2.5 in /usr/local/lib/python3.10/dist-packages (from requests->huggingface_hub->timm) (3.8)\n",
            "Requirement already satisfied: urllib3<3,>=1.21.1 in /usr/local/lib/python3.10/dist-packages (from requests->huggingface_hub->timm) (2.0.7)\n",
            "Requirement already satisfied: certifi>=2017.4.17 in /usr/local/lib/python3.10/dist-packages (from requests->huggingface_hub->timm) (2024.8.30)\n",
            "Requirement already satisfied: mpmath<1.4,>=1.1.0 in /usr/local/lib/python3.10/dist-packages (from sympy->torch->timm) (1.3.0)\n",
            "Downloading timm-1.0.9-py3-none-any.whl (2.3 MB)\n",
            "\u001b[2K   \u001b[90m━━━━━━━━━━━━━━━━━━━━━━━━━━━━━━━━━━━━━━━━\u001b[0m \u001b[32m2.3/2.3 MB\u001b[0m \u001b[31m16.1 MB/s\u001b[0m eta \u001b[36m0:00:00\u001b[0m\n",
            "\u001b[?25hInstalling collected packages: timm\n",
            "Successfully installed timm-1.0.9\n"
          ]
        }
      ],
      "source": [
        "!pip install timm"
      ]
    },
    {
      "cell_type": "code",
      "execution_count": 3,
      "metadata": {
        "id": "-CUShau0kLO-"
      },
      "outputs": [],
      "source": [
        "import timm\n",
        "import pandas as pd\n",
        "from PIL import Image\n",
        "import torchvision.transforms as transforms\n",
        "import os\n",
        "from torch.utils.data import Dataset, DataLoader\n",
        "\n",
        "import torch\n",
        "from torch import nn, optim"
      ]
    },
    {
      "cell_type": "markdown",
      "metadata": {
        "id": "pcO2OMOO4pIU"
      },
      "source": [
        "### 3.   Creating Data Loader and processing data"
      ]
    },
    {
      "cell_type": "markdown",
      "metadata": {
        "id": "roG0Oq-X93Qo"
      },
      "source": [
        "Excel file containing Breast MRI Cancer information"
      ]
    },
    {
      "cell_type": "code",
      "execution_count": 8,
      "metadata": {
        "id": "ugpZyfuAssoI"
      },
      "outputs": [],
      "source": [
        "clinical_excel = pd.read_excel('/content/drive/MyDrive/VLR_Project/Clinical_and_Other_Features.xlsx', header = 1)"
      ]
    },
    {
      "cell_type": "code",
      "execution_count": 9,
      "metadata": {
        "id": "oEXdxHobuxyB"
      },
      "outputs": [],
      "source": [
        "clinical_excel = clinical_excel[1:]\n",
        "labels = clinical_excel[['Patient ID', 'Recurrence event(s)']]\n",
        "#labels = labels.fillna(0).astype(int)\n",
        "labels = labels.reset_index(drop=True)\n"
      ]
    },
    {
      "cell_type": "code",
      "execution_count": 10,
      "metadata": {
        "colab": {
          "base_uri": "https://localhost:8080/"
        },
        "id": "9koQGElYo1uN",
        "outputId": "fe0126ee-1cfe-44e8-9879-315ccfa512be"
      },
      "outputs": [
        {
          "output_type": "stream",
          "name": "stdout",
          "text": [
            "Images with NaN values: ['Breast_MRI_325', 'Breast_MRI_373']\n"
          ]
        }
      ],
      "source": [
        "nan_rows = clinical_excel[clinical_excel['Recurrence event(s)'].isna()]\n",
        "# Record the Image IDs corresponding to NaN values\n",
        "nan_image_ids = nan_rows['Patient ID']  # Replace 'ImageID' with the actual column name\n",
        "nan_image_ids_list = nan_image_ids.tolist()\n",
        "print(\"Images with NaN values:\", nan_image_ids_list)\n"
      ]
    },
    {
      "cell_type": "code",
      "execution_count": 11,
      "metadata": {
        "id": "1ZKBAttcpFbP",
        "colab": {
          "base_uri": "https://localhost:8080/",
          "height": 947
        },
        "outputId": "f1741cf2-d1ae-438b-99a9-bff0a762cf1c"
      },
      "outputs": [
        {
          "output_type": "display_data",
          "data": {
            "text/plain": [
              "       Patient ID  Days to MRI (From the Date of Diagnosis) Manufacturer  \\\n",
              "1  Breast_MRI_001                                       6.0            2   \n",
              "2  Breast_MRI_002                                      12.0            0   \n",
              "3  Breast_MRI_003                                      10.0            0   \n",
              "4  Breast_MRI_004                                      18.0            0   \n",
              "5  Breast_MRI_005                                      12.0            2   \n",
              "\n",
              "  Manufacturer Model Name Scan Options Field Strength (Tesla)  \\\n",
              "1                       0            5                      1   \n",
              "2                       4            1                      3   \n",
              "3                       3            2                      3   \n",
              "4                       4            1                      1   \n",
              "5                       0            5                      1   \n",
              "\n",
              "  Patient Position During MRI        Image Position of Patient Contrast Agent  \\\n",
              "1                           0  -191.8003 X -176.1259 X 86.6065              1   \n",
              "2                           0      154.724 X 176.048 X 94.5771              1   \n",
              "3                           0      174.658 X 228.317 X 88.4878              1   \n",
              "4                           0      188.148 X 194.282 X 94.1832              1   \n",
              "5                           1    -173.063 X -150.7869 X 59.161              1   \n",
              "\n",
              "  Contrast Bolus Volume (mL)  ...  \\\n",
              "1                         15  ...   \n",
              "2                        NaN  ...   \n",
              "3                        NaN  ...   \n",
              "4                        NaN  ...   \n",
              "5                          5  ...   \n",
              "\n",
              "   Therapeutic or Prophylactic Oophorectomy as part of Endocrine Therapy   \\\n",
              "1                                                  1                        \n",
              "2                                                  0                        \n",
              "3                                                  0                        \n",
              "4                                                  0                        \n",
              "5                                                  0                        \n",
              "\n",
              "   Neoadjuvant Anti-Her2 Neu Therapy Adjuvant Anti-Her2 Neu Therapy   \\\n",
              "1                                  1                               1   \n",
              "2                                  0                               0   \n",
              "3                                  0                               0   \n",
              "4                                  0                               0   \n",
              "5                                  1                               1   \n",
              "\n",
              "  Received Neoadjuvant Therapy or Not  \\\n",
              "1                                   1   \n",
              "2                                   1   \n",
              "3                                   1   \n",
              "4                                   2   \n",
              "5                                   1   \n",
              "\n",
              "  Pathologic response to Neoadjuvant therapy: Pathologic stage (T) following neoadjuvant therapy   \\\n",
              "1                                                  1                                                \n",
              "2                                                NaN                                                \n",
              "3                                                  1                                                \n",
              "4                                                NaN                                                \n",
              "5                                                  0                                                \n",
              "\n",
              "  Pathologic response to Neoadjuvant therapy:  Pathologic stage (N) following neoadjuvant therapy  \\\n",
              "1                                                 -1                                                \n",
              "2                                                NaN                                                \n",
              "3                                                  1                                                \n",
              "4                                                NaN                                                \n",
              "5                                                  0                                                \n",
              "\n",
              "  Pathologic response to Neoadjuvant therapy:  Pathologic stage (M) following neoadjuvant therapy   \\\n",
              "1                                                 -1                                                 \n",
              "2                                                NaN                                                 \n",
              "3                                                 -1                                                 \n",
              "4                                                NaN                                                 \n",
              "5                                                 -1                                                 \n",
              "\n",
              "  Overall Near-complete Response:  Stricter Definition  \\\n",
              "1                                                  0     \n",
              "2                                                  2     \n",
              "3                                                  0     \n",
              "4                                                NaN     \n",
              "5                                                  1     \n",
              "\n",
              "  Overall Near-complete Response:  Looser Definition  \\\n",
              "1                                                  0   \n",
              "2                                                  2   \n",
              "3                                                  0   \n",
              "4                                                NaN   \n",
              "5                                                  1   \n",
              "\n",
              "  Near-complete Response (Graded Measure)  \n",
              "1                                       0  \n",
              "2                                       4  \n",
              "3                                       0  \n",
              "4                                     NaN  \n",
              "5                                       1  \n",
              "\n",
              "[5 rows x 98 columns]"
            ],
            "text/html": [
              "\n",
              "  <div id=\"df-e42ac047-7372-455b-ad22-f1f307977cbf\" class=\"colab-df-container\">\n",
              "    <div>\n",
              "<style scoped>\n",
              "    .dataframe tbody tr th:only-of-type {\n",
              "        vertical-align: middle;\n",
              "    }\n",
              "\n",
              "    .dataframe tbody tr th {\n",
              "        vertical-align: top;\n",
              "    }\n",
              "\n",
              "    .dataframe thead th {\n",
              "        text-align: right;\n",
              "    }\n",
              "</style>\n",
              "<table border=\"1\" class=\"dataframe\">\n",
              "  <thead>\n",
              "    <tr style=\"text-align: right;\">\n",
              "      <th></th>\n",
              "      <th>Patient ID</th>\n",
              "      <th>Days to MRI (From the Date of Diagnosis)</th>\n",
              "      <th>Manufacturer</th>\n",
              "      <th>Manufacturer Model Name</th>\n",
              "      <th>Scan Options</th>\n",
              "      <th>Field Strength (Tesla)</th>\n",
              "      <th>Patient Position During MRI</th>\n",
              "      <th>Image Position of Patient</th>\n",
              "      <th>Contrast Agent</th>\n",
              "      <th>Contrast Bolus Volume (mL)</th>\n",
              "      <th>...</th>\n",
              "      <th>Therapeutic or Prophylactic Oophorectomy as part of Endocrine Therapy</th>\n",
              "      <th>Neoadjuvant Anti-Her2 Neu Therapy</th>\n",
              "      <th>Adjuvant Anti-Her2 Neu Therapy</th>\n",
              "      <th>Received Neoadjuvant Therapy or Not</th>\n",
              "      <th>Pathologic response to Neoadjuvant therapy: Pathologic stage (T) following neoadjuvant therapy</th>\n",
              "      <th>Pathologic response to Neoadjuvant therapy:  Pathologic stage (N) following neoadjuvant therapy</th>\n",
              "      <th>Pathologic response to Neoadjuvant therapy:  Pathologic stage (M) following neoadjuvant therapy</th>\n",
              "      <th>Overall Near-complete Response:  Stricter Definition</th>\n",
              "      <th>Overall Near-complete Response:  Looser Definition</th>\n",
              "      <th>Near-complete Response (Graded Measure)</th>\n",
              "    </tr>\n",
              "  </thead>\n",
              "  <tbody>\n",
              "    <tr>\n",
              "      <th>1</th>\n",
              "      <td>Breast_MRI_001</td>\n",
              "      <td>6.0</td>\n",
              "      <td>2</td>\n",
              "      <td>0</td>\n",
              "      <td>5</td>\n",
              "      <td>1</td>\n",
              "      <td>0</td>\n",
              "      <td>-191.8003 X -176.1259 X 86.6065</td>\n",
              "      <td>1</td>\n",
              "      <td>15</td>\n",
              "      <td>...</td>\n",
              "      <td>1</td>\n",
              "      <td>1</td>\n",
              "      <td>1</td>\n",
              "      <td>1</td>\n",
              "      <td>1</td>\n",
              "      <td>-1</td>\n",
              "      <td>-1</td>\n",
              "      <td>0</td>\n",
              "      <td>0</td>\n",
              "      <td>0</td>\n",
              "    </tr>\n",
              "    <tr>\n",
              "      <th>2</th>\n",
              "      <td>Breast_MRI_002</td>\n",
              "      <td>12.0</td>\n",
              "      <td>0</td>\n",
              "      <td>4</td>\n",
              "      <td>1</td>\n",
              "      <td>3</td>\n",
              "      <td>0</td>\n",
              "      <td>154.724 X 176.048 X 94.5771</td>\n",
              "      <td>1</td>\n",
              "      <td>NaN</td>\n",
              "      <td>...</td>\n",
              "      <td>0</td>\n",
              "      <td>0</td>\n",
              "      <td>0</td>\n",
              "      <td>1</td>\n",
              "      <td>NaN</td>\n",
              "      <td>NaN</td>\n",
              "      <td>NaN</td>\n",
              "      <td>2</td>\n",
              "      <td>2</td>\n",
              "      <td>4</td>\n",
              "    </tr>\n",
              "    <tr>\n",
              "      <th>3</th>\n",
              "      <td>Breast_MRI_003</td>\n",
              "      <td>10.0</td>\n",
              "      <td>0</td>\n",
              "      <td>3</td>\n",
              "      <td>2</td>\n",
              "      <td>3</td>\n",
              "      <td>0</td>\n",
              "      <td>174.658 X 228.317 X 88.4878</td>\n",
              "      <td>1</td>\n",
              "      <td>NaN</td>\n",
              "      <td>...</td>\n",
              "      <td>0</td>\n",
              "      <td>0</td>\n",
              "      <td>0</td>\n",
              "      <td>1</td>\n",
              "      <td>1</td>\n",
              "      <td>1</td>\n",
              "      <td>-1</td>\n",
              "      <td>0</td>\n",
              "      <td>0</td>\n",
              "      <td>0</td>\n",
              "    </tr>\n",
              "    <tr>\n",
              "      <th>4</th>\n",
              "      <td>Breast_MRI_004</td>\n",
              "      <td>18.0</td>\n",
              "      <td>0</td>\n",
              "      <td>4</td>\n",
              "      <td>1</td>\n",
              "      <td>1</td>\n",
              "      <td>0</td>\n",
              "      <td>188.148 X 194.282 X 94.1832</td>\n",
              "      <td>1</td>\n",
              "      <td>NaN</td>\n",
              "      <td>...</td>\n",
              "      <td>0</td>\n",
              "      <td>0</td>\n",
              "      <td>0</td>\n",
              "      <td>2</td>\n",
              "      <td>NaN</td>\n",
              "      <td>NaN</td>\n",
              "      <td>NaN</td>\n",
              "      <td>NaN</td>\n",
              "      <td>NaN</td>\n",
              "      <td>NaN</td>\n",
              "    </tr>\n",
              "    <tr>\n",
              "      <th>5</th>\n",
              "      <td>Breast_MRI_005</td>\n",
              "      <td>12.0</td>\n",
              "      <td>2</td>\n",
              "      <td>0</td>\n",
              "      <td>5</td>\n",
              "      <td>1</td>\n",
              "      <td>1</td>\n",
              "      <td>-173.063 X -150.7869 X 59.161</td>\n",
              "      <td>1</td>\n",
              "      <td>5</td>\n",
              "      <td>...</td>\n",
              "      <td>0</td>\n",
              "      <td>1</td>\n",
              "      <td>1</td>\n",
              "      <td>1</td>\n",
              "      <td>0</td>\n",
              "      <td>0</td>\n",
              "      <td>-1</td>\n",
              "      <td>1</td>\n",
              "      <td>1</td>\n",
              "      <td>1</td>\n",
              "    </tr>\n",
              "  </tbody>\n",
              "</table>\n",
              "<p>5 rows × 98 columns</p>\n",
              "</div>\n",
              "    <div class=\"colab-df-buttons\">\n",
              "\n",
              "  <div class=\"colab-df-container\">\n",
              "    <button class=\"colab-df-convert\" onclick=\"convertToInteractive('df-e42ac047-7372-455b-ad22-f1f307977cbf')\"\n",
              "            title=\"Convert this dataframe to an interactive table.\"\n",
              "            style=\"display:none;\">\n",
              "\n",
              "  <svg xmlns=\"http://www.w3.org/2000/svg\" height=\"24px\" viewBox=\"0 -960 960 960\">\n",
              "    <path d=\"M120-120v-720h720v720H120Zm60-500h600v-160H180v160Zm220 220h160v-160H400v160Zm0 220h160v-160H400v160ZM180-400h160v-160H180v160Zm440 0h160v-160H620v160ZM180-180h160v-160H180v160Zm440 0h160v-160H620v160Z\"/>\n",
              "  </svg>\n",
              "    </button>\n",
              "\n",
              "  <style>\n",
              "    .colab-df-container {\n",
              "      display:flex;\n",
              "      gap: 12px;\n",
              "    }\n",
              "\n",
              "    .colab-df-convert {\n",
              "      background-color: #E8F0FE;\n",
              "      border: none;\n",
              "      border-radius: 50%;\n",
              "      cursor: pointer;\n",
              "      display: none;\n",
              "      fill: #1967D2;\n",
              "      height: 32px;\n",
              "      padding: 0 0 0 0;\n",
              "      width: 32px;\n",
              "    }\n",
              "\n",
              "    .colab-df-convert:hover {\n",
              "      background-color: #E2EBFA;\n",
              "      box-shadow: 0px 1px 2px rgba(60, 64, 67, 0.3), 0px 1px 3px 1px rgba(60, 64, 67, 0.15);\n",
              "      fill: #174EA6;\n",
              "    }\n",
              "\n",
              "    .colab-df-buttons div {\n",
              "      margin-bottom: 4px;\n",
              "    }\n",
              "\n",
              "    [theme=dark] .colab-df-convert {\n",
              "      background-color: #3B4455;\n",
              "      fill: #D2E3FC;\n",
              "    }\n",
              "\n",
              "    [theme=dark] .colab-df-convert:hover {\n",
              "      background-color: #434B5C;\n",
              "      box-shadow: 0px 1px 3px 1px rgba(0, 0, 0, 0.15);\n",
              "      filter: drop-shadow(0px 1px 2px rgba(0, 0, 0, 0.3));\n",
              "      fill: #FFFFFF;\n",
              "    }\n",
              "  </style>\n",
              "\n",
              "    <script>\n",
              "      const buttonEl =\n",
              "        document.querySelector('#df-e42ac047-7372-455b-ad22-f1f307977cbf button.colab-df-convert');\n",
              "      buttonEl.style.display =\n",
              "        google.colab.kernel.accessAllowed ? 'block' : 'none';\n",
              "\n",
              "      async function convertToInteractive(key) {\n",
              "        const element = document.querySelector('#df-e42ac047-7372-455b-ad22-f1f307977cbf');\n",
              "        const dataTable =\n",
              "          await google.colab.kernel.invokeFunction('convertToInteractive',\n",
              "                                                    [key], {});\n",
              "        if (!dataTable) return;\n",
              "\n",
              "        const docLinkHtml = 'Like what you see? Visit the ' +\n",
              "          '<a target=\"_blank\" href=https://colab.research.google.com/notebooks/data_table.ipynb>data table notebook</a>'\n",
              "          + ' to learn more about interactive tables.';\n",
              "        element.innerHTML = '';\n",
              "        dataTable['output_type'] = 'display_data';\n",
              "        await google.colab.output.renderOutput(dataTable, element);\n",
              "        const docLink = document.createElement('div');\n",
              "        docLink.innerHTML = docLinkHtml;\n",
              "        element.appendChild(docLink);\n",
              "      }\n",
              "    </script>\n",
              "  </div>\n",
              "\n",
              "\n",
              "<div id=\"df-a21aa9d3-2220-4538-8951-d5ec06e33b85\">\n",
              "  <button class=\"colab-df-quickchart\" onclick=\"quickchart('df-a21aa9d3-2220-4538-8951-d5ec06e33b85')\"\n",
              "            title=\"Suggest charts\"\n",
              "            style=\"display:none;\">\n",
              "\n",
              "<svg xmlns=\"http://www.w3.org/2000/svg\" height=\"24px\"viewBox=\"0 0 24 24\"\n",
              "     width=\"24px\">\n",
              "    <g>\n",
              "        <path d=\"M19 3H5c-1.1 0-2 .9-2 2v14c0 1.1.9 2 2 2h14c1.1 0 2-.9 2-2V5c0-1.1-.9-2-2-2zM9 17H7v-7h2v7zm4 0h-2V7h2v10zm4 0h-2v-4h2v4z\"/>\n",
              "    </g>\n",
              "</svg>\n",
              "  </button>\n",
              "\n",
              "<style>\n",
              "  .colab-df-quickchart {\n",
              "      --bg-color: #E8F0FE;\n",
              "      --fill-color: #1967D2;\n",
              "      --hover-bg-color: #E2EBFA;\n",
              "      --hover-fill-color: #174EA6;\n",
              "      --disabled-fill-color: #AAA;\n",
              "      --disabled-bg-color: #DDD;\n",
              "  }\n",
              "\n",
              "  [theme=dark] .colab-df-quickchart {\n",
              "      --bg-color: #3B4455;\n",
              "      --fill-color: #D2E3FC;\n",
              "      --hover-bg-color: #434B5C;\n",
              "      --hover-fill-color: #FFFFFF;\n",
              "      --disabled-bg-color: #3B4455;\n",
              "      --disabled-fill-color: #666;\n",
              "  }\n",
              "\n",
              "  .colab-df-quickchart {\n",
              "    background-color: var(--bg-color);\n",
              "    border: none;\n",
              "    border-radius: 50%;\n",
              "    cursor: pointer;\n",
              "    display: none;\n",
              "    fill: var(--fill-color);\n",
              "    height: 32px;\n",
              "    padding: 0;\n",
              "    width: 32px;\n",
              "  }\n",
              "\n",
              "  .colab-df-quickchart:hover {\n",
              "    background-color: var(--hover-bg-color);\n",
              "    box-shadow: 0 1px 2px rgba(60, 64, 67, 0.3), 0 1px 3px 1px rgba(60, 64, 67, 0.15);\n",
              "    fill: var(--button-hover-fill-color);\n",
              "  }\n",
              "\n",
              "  .colab-df-quickchart-complete:disabled,\n",
              "  .colab-df-quickchart-complete:disabled:hover {\n",
              "    background-color: var(--disabled-bg-color);\n",
              "    fill: var(--disabled-fill-color);\n",
              "    box-shadow: none;\n",
              "  }\n",
              "\n",
              "  .colab-df-spinner {\n",
              "    border: 2px solid var(--fill-color);\n",
              "    border-color: transparent;\n",
              "    border-bottom-color: var(--fill-color);\n",
              "    animation:\n",
              "      spin 1s steps(1) infinite;\n",
              "  }\n",
              "\n",
              "  @keyframes spin {\n",
              "    0% {\n",
              "      border-color: transparent;\n",
              "      border-bottom-color: var(--fill-color);\n",
              "      border-left-color: var(--fill-color);\n",
              "    }\n",
              "    20% {\n",
              "      border-color: transparent;\n",
              "      border-left-color: var(--fill-color);\n",
              "      border-top-color: var(--fill-color);\n",
              "    }\n",
              "    30% {\n",
              "      border-color: transparent;\n",
              "      border-left-color: var(--fill-color);\n",
              "      border-top-color: var(--fill-color);\n",
              "      border-right-color: var(--fill-color);\n",
              "    }\n",
              "    40% {\n",
              "      border-color: transparent;\n",
              "      border-right-color: var(--fill-color);\n",
              "      border-top-color: var(--fill-color);\n",
              "    }\n",
              "    60% {\n",
              "      border-color: transparent;\n",
              "      border-right-color: var(--fill-color);\n",
              "    }\n",
              "    80% {\n",
              "      border-color: transparent;\n",
              "      border-right-color: var(--fill-color);\n",
              "      border-bottom-color: var(--fill-color);\n",
              "    }\n",
              "    90% {\n",
              "      border-color: transparent;\n",
              "      border-bottom-color: var(--fill-color);\n",
              "    }\n",
              "  }\n",
              "</style>\n",
              "\n",
              "  <script>\n",
              "    async function quickchart(key) {\n",
              "      const quickchartButtonEl =\n",
              "        document.querySelector('#' + key + ' button');\n",
              "      quickchartButtonEl.disabled = true;  // To prevent multiple clicks.\n",
              "      quickchartButtonEl.classList.add('colab-df-spinner');\n",
              "      try {\n",
              "        const charts = await google.colab.kernel.invokeFunction(\n",
              "            'suggestCharts', [key], {});\n",
              "      } catch (error) {\n",
              "        console.error('Error during call to suggestCharts:', error);\n",
              "      }\n",
              "      quickchartButtonEl.classList.remove('colab-df-spinner');\n",
              "      quickchartButtonEl.classList.add('colab-df-quickchart-complete');\n",
              "    }\n",
              "    (() => {\n",
              "      let quickchartButtonEl =\n",
              "        document.querySelector('#df-a21aa9d3-2220-4538-8951-d5ec06e33b85 button');\n",
              "      quickchartButtonEl.style.display =\n",
              "        google.colab.kernel.accessAllowed ? 'block' : 'none';\n",
              "    })();\n",
              "  </script>\n",
              "</div>\n",
              "\n",
              "    </div>\n",
              "  </div>\n"
            ],
            "application/vnd.google.colaboratory.intrinsic+json": {
              "type": "dataframe"
            }
          },
          "metadata": {}
        },
        {
          "output_type": "display_data",
          "data": {
            "text/plain": [
              "1    0\n",
              "2    0\n",
              "3    0\n",
              "4    0\n",
              "5    0\n",
              "Name: Recurrence event(s), dtype: int64"
            ],
            "text/html": [
              "<div>\n",
              "<style scoped>\n",
              "    .dataframe tbody tr th:only-of-type {\n",
              "        vertical-align: middle;\n",
              "    }\n",
              "\n",
              "    .dataframe tbody tr th {\n",
              "        vertical-align: top;\n",
              "    }\n",
              "\n",
              "    .dataframe thead th {\n",
              "        text-align: right;\n",
              "    }\n",
              "</style>\n",
              "<table border=\"1\" class=\"dataframe\">\n",
              "  <thead>\n",
              "    <tr style=\"text-align: right;\">\n",
              "      <th></th>\n",
              "      <th>Recurrence event(s)</th>\n",
              "    </tr>\n",
              "  </thead>\n",
              "  <tbody>\n",
              "    <tr>\n",
              "      <th>1</th>\n",
              "      <td>0</td>\n",
              "    </tr>\n",
              "    <tr>\n",
              "      <th>2</th>\n",
              "      <td>0</td>\n",
              "    </tr>\n",
              "    <tr>\n",
              "      <th>3</th>\n",
              "      <td>0</td>\n",
              "    </tr>\n",
              "    <tr>\n",
              "      <th>4</th>\n",
              "      <td>0</td>\n",
              "    </tr>\n",
              "    <tr>\n",
              "      <th>5</th>\n",
              "      <td>0</td>\n",
              "    </tr>\n",
              "  </tbody>\n",
              "</table>\n",
              "</div><br><label><b>dtype:</b> int64</label>"
            ]
          },
          "metadata": {}
        }
      ],
      "source": [
        "cleaned_clinical_excel = clinical_excel.dropna(subset=['Recurrence event(s)'])\n",
        "display(cleaned_clinical_excel.head(5))\n",
        "labels_new = cleaned_clinical_excel['Recurrence event(s)'].astype(int)\n",
        "display(labels_new.head(5))"
      ]
    },
    {
      "cell_type": "code",
      "execution_count": 12,
      "metadata": {
        "colab": {
          "base_uri": "https://localhost:8080/"
        },
        "id": "EDqSmFqeB9go",
        "outputId": "f7e222d6-9f9f-451b-e051-b90e46f503fc"
      },
      "outputs": [
        {
          "output_type": "execute_result",
          "data": {
            "text/plain": [
              "array([0, 1])"
            ]
          },
          "metadata": {},
          "execution_count": 12
        }
      ],
      "source": [
        "labels_new.unique()"
      ]
    },
    {
      "cell_type": "code",
      "execution_count": 13,
      "metadata": {
        "id": "Hk7q5ie56aP4"
      },
      "outputs": [],
      "source": [
        "labels_df = pd.DataFrame(labels_new)"
      ]
    },
    {
      "cell_type": "code",
      "execution_count": null,
      "metadata": {
        "colab": {
          "base_uri": "https://localhost:8080/"
        },
        "id": "0WAjN7T_u69Y",
        "outputId": "0e239f69-70db-4e3d-c779-8238179a7f2f"
      },
      "outputs": [
        {
          "output_type": "execute_result",
          "data": {
            "text/plain": [
              "922"
            ]
          },
          "metadata": {},
          "execution_count": 38
        }
      ],
      "source": [
        "len(labels_df)"
      ]
    },
    {
      "cell_type": "markdown",
      "metadata": {
        "id": "1jjnphq3_D6y"
      },
      "source": [
        "Creating Data Loader"
      ]
    },
    {
      "cell_type": "markdown",
      "metadata": {
        "id": "ue6K3O1ps9Oi"
      },
      "source": [
        "Pix2Pix Synthetic"
      ]
    },
    {
      "cell_type": "code",
      "execution_count": null,
      "metadata": {
        "colab": {
          "base_uri": "https://localhost:8080/"
        },
        "id": "maqs6MWDcdjI",
        "outputId": "05c055be-aadd-48e9-a731-ae9e2a67591d"
      },
      "outputs": [
        {
          "name": "stdout",
          "output_type": "stream",
          "text": [
            "Archive:  /content/drive/MyDrive/VLR_Project/pix2pix.zip\n"
          ]
        }
      ],
      "source": [
        "!unzip /content/drive/MyDrive/VLR_Project/pix2pix.zip -d /content/drive/MyDrive/VLR_Project/pix2pix\n"
      ]
    },
    {
      "cell_type": "code",
      "execution_count": 14,
      "metadata": {
        "colab": {
          "base_uri": "https://localhost:8080/"
        },
        "id": "4ELz074DdD90",
        "outputId": "3b902574-d71e-4635-be44-d6a9e3fa4437"
      },
      "outputs": [
        {
          "output_type": "stream",
          "name": "stdout",
          "text": [
            "Number of files in '/content/drive/MyDrive/VLR_Project/pix2pix/post_3': 913\n"
          ]
        }
      ],
      "source": [
        "import os\n",
        "# Specify the directory path\n",
        "directory_path = '/content/drive/MyDrive/VLR_Project/pix2pix/post_3'\n",
        "\n",
        "# List all entries in the directory\n",
        "all_entries = os.listdir(directory_path)\n",
        "\n",
        "# Filter out directories, count only files\n",
        "files = [entry for entry in all_entries if os.path.isfile(os.path.join(directory_path, entry))]\n",
        "number_of_files = len(files)\n",
        "\n",
        "print(f\"Number of files in '{directory_path}': {number_of_files}\")\n"
      ]
    },
    {
      "cell_type": "markdown",
      "source": [
        "Diffusion"
      ],
      "metadata": {
        "id": "zsawloPlzUB2"
      }
    },
    {
      "cell_type": "code",
      "source": [
        "import os\n",
        "# Specify the directory path\n",
        "directory_path = '/content/drive/MyDrive/VLR_Project/diffusion/post_2'\n",
        "\n",
        "# List all entries in the directory\n",
        "all_entries = os.listdir(directory_path)\n",
        "\n",
        "# Filter out directories, count only files\n",
        "files = [entry for entry in all_entries if os.path.isfile(os.path.join(directory_path, entry))]\n",
        "number_of_files = len(files)\n",
        "\n",
        "print(f\"Number of files in '{directory_path}': {number_of_files}\")"
      ],
      "metadata": {
        "colab": {
          "base_uri": "https://localhost:8080/"
        },
        "id": "2H0HttVIzXP1",
        "outputId": "f41b75bb-d42b-4747-e029-377777a76d75"
      },
      "execution_count": 15,
      "outputs": [
        {
          "output_type": "stream",
          "name": "stdout",
          "text": [
            "Number of files in '/content/drive/MyDrive/VLR_Project/diffusion/post_2': 922\n"
          ]
        }
      ]
    },
    {
      "cell_type": "markdown",
      "metadata": {
        "id": "8GdFxqv7dp1u"
      },
      "source": [
        "There are 922 images in post 1 and post 2 folders for pix2pix, 913 images for post 3"
      ]
    },
    {
      "cell_type": "markdown",
      "metadata": {
        "id": "RTuuhvw0mJ2w"
      },
      "source": [
        "Creating train dataloader"
      ]
    },
    {
      "cell_type": "code",
      "source": [
        "exclude_images_list = ['Breast_MRI_325.png', 'Breast_MRI_373.png']"
      ],
      "metadata": {
        "id": "Eox7Z2-sceJM"
      },
      "execution_count": 16,
      "outputs": []
    },
    {
      "cell_type": "code",
      "source": [
        "import os\n",
        "import torch\n",
        "from torch.utils.data import Dataset\n",
        "from torchvision import transforms\n",
        "from PIL import Image\n",
        "\n",
        "def load_and_preprocess_image(path):\n",
        "    image = Image.open(path).convert('L')  # Convert to grayscale\n",
        "    image = image.convert('RGB')  # Convert grayscale to RGB by duplicating channels\n",
        "    transform = transforms.Compose([\n",
        "        transforms.Resize((224, 224)),\n",
        "        transforms.ToTensor(),\n",
        "        transforms.Normalize(mean=[0.485, 0.456, 0.406], std=[0.229, 0.224, 0.225])  # Standard normalization for RGB\n",
        "    ])\n",
        "    return transform(image)\n",
        "\n",
        "class TemporalBreastMRIDataset(Dataset):\n",
        "    def __init__(self, root_dir, labels_df, exclude_images):\n",
        "        #self.subdirs = ['pre', 'post_1', 'post_2']\n",
        "        self.subdirs = ['post_1', 'post_2']\n",
        "        self.root_dir = root_dir\n",
        "        self.samples = []\n",
        "\n",
        "        # Convert exclude_images to set for faster lookup\n",
        "        exclude_images_set = set(exclude_images)\n",
        "\n",
        "        # This list will keep the valid labels and their corresponding paths\n",
        "        valid_labels = []\n",
        "        valid_images = []\n",
        "\n",
        "        # Iterate over subdirectories and collect valid images and labels\n",
        "        for subdir in self.subdirs:\n",
        "            full_path = os.path.join(root_dir, subdir)\n",
        "            files_in_dir = os.listdir(full_path)\n",
        "\n",
        "            # Filter and sort filenames to maintain consistent order\n",
        "            filenames = sorted(f for f in files_in_dir if f.lower().endswith(('png', 'jpg', 'jpeg', 'tif', 'tiff')))\n",
        "\n",
        "            # Loop through filenames to build the dataset\n",
        "            for filename in filenames:\n",
        "                basename = os.path.splitext(filename)[0]\n",
        "                if basename not in exclude_images_set:\n",
        "                    valid_images.append(os.path.join(full_path, filename))\n",
        "\n",
        "        # Exclude the labels for the excluded images\n",
        "        # Assuming filenames without extension match the index order of labels\n",
        "        valid_labels = [label for idx, label in enumerate(labels_df['Recurrence event(s)']) if labels_df['Patient ID'][idx] not in exclude_images_set]\n",
        "\n",
        "        # Ensure each image has a corresponding label\n",
        "        for img, lbl in zip(valid_images, valid_labels):\n",
        "            self.samples.append((img, lbl))\n",
        "\n",
        "    def __len__(self):\n",
        "        return len(self.samples)\n",
        "\n",
        "    def __getitem__(self, idx):\n",
        "        image_path, label = self.samples[idx]\n",
        "        image = load_and_preprocess_image(image_path)\n",
        "        return image, label\n",
        "\n",
        "# Example usage\n",
        "root_dir = '/content/drive/MyDrive/VLR_Project/pix2pix'\n",
        "exclude_images = ['Breast_MRI_325', 'Breast_MRI_373']  # Define excluded image IDs\n",
        "# labels_df = pd.DataFrame({\n",
        "#     'ImageID': ['Breast_MRI_001', 'Breast_MRI_002', 'Breast_MRI_325', 'Breast_MRI_373', 'Breast_MRI_005'],\n",
        "#     'Recurrence event(s)': [0, 1, 0, 1, 0]\n",
        "# })\n",
        "labels_df = labels\n",
        "\n",
        "dataset = TemporalBreastMRIDataset(root_dir, labels_df, exclude_images)\n",
        "train_dataloader = DataLoader(dataset, batch_size=32, shuffle=True, num_workers=4)\n"
      ],
      "metadata": {
        "id": "s8fpo2_ef9vW",
        "colab": {
          "base_uri": "https://localhost:8080/"
        },
        "outputId": "3932b315-d107-46d8-9ed0-0a06ef3f470b"
      },
      "execution_count": 17,
      "outputs": [
        {
          "output_type": "stream",
          "name": "stderr",
          "text": [
            "/usr/local/lib/python3.10/dist-packages/torch/utils/data/dataloader.py:557: UserWarning: This DataLoader will create 4 worker processes in total. Our suggested max number of worker in current system is 2, which is smaller than what this DataLoader is going to create. Please be aware that excessive worker creation might get DataLoader running slow or even freeze, lower the worker number to avoid potential slowness/freeze if necessary.\n",
            "  warnings.warn(_create_warning_msg(\n"
          ]
        }
      ]
    },
    {
      "cell_type": "code",
      "execution_count": 18,
      "metadata": {
        "colab": {
          "base_uri": "https://localhost:8080/"
        },
        "id": "jYPjuoKTFVm5",
        "outputId": "18074163-3769-40ea-cb99-55aa415f85c5"
      },
      "outputs": [
        {
          "output_type": "stream",
          "name": "stderr",
          "text": [
            "/usr/local/lib/python3.10/dist-packages/torch/utils/data/dataloader.py:557: UserWarning: This DataLoader will create 4 worker processes in total. Our suggested max number of worker in current system is 2, which is smaller than what this DataLoader is going to create. Please be aware that excessive worker creation might get DataLoader running slow or even freeze, lower the worker number to avoid potential slowness/freeze if necessary.\n",
            "  warnings.warn(_create_warning_msg(\n"
          ]
        },
        {
          "output_type": "stream",
          "name": "stdout",
          "text": [
            "torch.Size([32, 3, 224, 224])\n",
            "torch.Size([32])\n"
          ]
        }
      ],
      "source": [
        "for image, label in train_dataloader:\n",
        "  print(image.shape)\n",
        "  print(label.shape)\n",
        "  break"
      ]
    },
    {
      "cell_type": "markdown",
      "source": [
        "#"
      ],
      "metadata": {
        "id": "COttXzGPzMqb"
      }
    },
    {
      "cell_type": "markdown",
      "metadata": {
        "id": "UOc3UiwbAjHV"
      },
      "source": [
        "### 4. Visualizing images"
      ]
    },
    {
      "cell_type": "code",
      "execution_count": 19,
      "metadata": {
        "colab": {
          "base_uri": "https://localhost:8080/",
          "height": 583
        },
        "id": "01N_AGrwWNvv",
        "outputId": "76b5aaea-880a-42b7-daf3-2596638114fe"
      },
      "outputs": [
        {
          "output_type": "error",
          "ename": "RuntimeError",
          "evalue": "a Tensor with 32 elements cannot be converted to Scalar",
          "traceback": [
            "\u001b[0;31m---------------------------------------------------------------------------\u001b[0m",
            "\u001b[0;31mRuntimeError\u001b[0m                              Traceback (most recent call last)",
            "\u001b[0;32m<ipython-input-19-5178caea5db5>\u001b[0m in \u001b[0;36m<cell line: 18>\u001b[0;34m()\u001b[0m\n\u001b[1;32m     30\u001b[0m         \u001b[0mimshow\u001b[0m\u001b[0;34m(\u001b[0m\u001b[0mimg\u001b[0m\u001b[0;34m.\u001b[0m\u001b[0mcpu\u001b[0m\u001b[0;34m(\u001b[0m\u001b[0;34m)\u001b[0m\u001b[0;34m)\u001b[0m  \u001b[0;31m# Make sure to move the tensor to 'cpu' if it's on 'cuda'\u001b[0m\u001b[0;34m\u001b[0m\u001b[0;34m\u001b[0m\u001b[0m\n\u001b[1;32m     31\u001b[0m         \u001b[0max\u001b[0m\u001b[0;34m.\u001b[0m\u001b[0maxis\u001b[0m\u001b[0;34m(\u001b[0m\u001b[0;34m'off'\u001b[0m\u001b[0;34m)\u001b[0m\u001b[0;34m\u001b[0m\u001b[0;34m\u001b[0m\u001b[0m\n\u001b[0;32m---> 32\u001b[0;31m     \u001b[0mplt\u001b[0m\u001b[0;34m.\u001b[0m\u001b[0msuptitle\u001b[0m\u001b[0;34m(\u001b[0m\u001b[0;34mf'Label: {label.item()}'\u001b[0m\u001b[0;34m)\u001b[0m\u001b[0;34m\u001b[0m\u001b[0;34m\u001b[0m\u001b[0m\n\u001b[0m\u001b[1;32m     33\u001b[0m     \u001b[0mplt\u001b[0m\u001b[0;34m.\u001b[0m\u001b[0mshow\u001b[0m\u001b[0;34m(\u001b[0m\u001b[0;34m)\u001b[0m\u001b[0;34m\u001b[0m\u001b[0;34m\u001b[0m\u001b[0m\n",
            "\u001b[0;31mRuntimeError\u001b[0m: a Tensor with 32 elements cannot be converted to Scalar"
          ]
        },
        {
          "output_type": "display_data",
          "data": {
            "text/plain": [
              "<Figure size 2000x500 with 3 Axes>"
            ],
            "image/png": "[encoded data removed]"
          },
          "metadata": {}
        }
      ],
      "source": [
        "import matplotlib.pyplot as plt\n",
        "import numpy as np\n",
        "import torch\n",
        "\n",
        "# Function to convert a Tensor to a NumPy array for plotting\n",
        "def imshow(inp, title=None):\n",
        "    \"\"\"Imshow for Tensor.\"\"\"\n",
        "    inp = inp.numpy().transpose((1, 2, 0))\n",
        "    mean = np.array([0.485, 0.456, 0.406])\n",
        "    std = np.array([0.229, 0.224, 0.225])\n",
        "    inp = std * inp + mean\n",
        "    inp = np.clip(inp, 0, 1)\n",
        "    plt.imshow(inp)\n",
        "    if title is not None:\n",
        "        plt.title(title)\n",
        "\n",
        "# Example for iterating over the DataLoader\n",
        "for i, (images, label) in enumerate(train_dataloader):\n",
        "    # Check if we have already displayed the first batch of 4 sets of images\n",
        "    if i >= 1:  # Since you mentioned only the first 4, we break after the first batch\n",
        "        break\n",
        "\n",
        "    # Remove batch dimension only if batch_size=1, and display the images\n",
        "    images = images.squeeze(0)  # Assume images is of shape [1, 4, 3, 224, 224]\n",
        "\n",
        "    fig, axs = plt.subplots(1, 3, figsize=(20, 5))  # Prepare a row of 4 images\n",
        "    for j in range(2):  # Assuming there are exactly 4 images per batch\n",
        "        img = images[j]\n",
        "        ax = axs[j]\n",
        "        imshow(img.cpu())  # Make sure to move the tensor to 'cpu' if it's on 'cuda'\n",
        "        ax.axis('off')\n",
        "    plt.suptitle(f'Label: {label.item()}')\n",
        "    plt.show()\n"
      ]
    },
    {
      "cell_type": "markdown",
      "metadata": {
        "id": "65hvbRRA4duK"
      },
      "source": [
        "### 5. Creating & Implementing Vision Transformer Model (from Hugging Face)"
      ]
    },
    {
      "cell_type": "code",
      "execution_count": 21,
      "metadata": {
        "id": "Im7Bn-gbkOQU",
        "colab": {
          "base_uri": "https://localhost:8080/"
        },
        "outputId": "91187ca1-a77c-4067-b8d9-89054cca13c6"
      },
      "outputs": [
        {
          "output_type": "stream",
          "name": "stdout",
          "text": [
            "['vit_base_mci_224', 'vit_base_patch8_224', 'vit_base_patch14_dinov2', 'vit_base_patch14_reg4_dinov2', 'vit_base_patch16_18x2_224', 'vit_base_patch16_224', 'vit_base_patch16_224_miil', 'vit_base_patch16_384', 'vit_base_patch16_clip_224', 'vit_base_patch16_clip_384', 'vit_base_patch16_clip_quickgelu_224', 'vit_base_patch16_gap_224', 'vit_base_patch16_plus_240', 'vit_base_patch16_reg4_gap_256', 'vit_base_patch16_rope_reg1_gap_256', 'vit_base_patch16_rpn_224', 'vit_base_patch16_siglip_224', 'vit_base_patch16_siglip_256', 'vit_base_patch16_siglip_384', 'vit_base_patch16_siglip_512', 'vit_base_patch16_siglip_gap_224', 'vit_base_patch16_siglip_gap_256', 'vit_base_patch16_siglip_gap_384', 'vit_base_patch16_siglip_gap_512', 'vit_base_patch16_xp_224', 'vit_base_patch32_224', 'vit_base_patch32_384', 'vit_base_patch32_clip_224', 'vit_base_patch32_clip_256', 'vit_base_patch32_clip_384', 'vit_base_patch32_clip_448', 'vit_base_patch32_clip_quickgelu_224', 'vit_base_patch32_plus_256', 'vit_base_r26_s32_224', 'vit_base_r50_s16_224', 'vit_base_r50_s16_384', 'vit_base_resnet26d_224', 'vit_base_resnet50d_224', 'vit_betwixt_patch16_gap_256', 'vit_betwixt_patch16_reg1_gap_256', 'vit_betwixt_patch16_reg4_gap_256', 'vit_betwixt_patch16_reg4_gap_384', 'vit_betwixt_patch16_rope_reg4_gap_256', 'vit_betwixt_patch32_clip_224', 'vit_giant_patch14_224', 'vit_giant_patch14_clip_224', 'vit_giant_patch14_dinov2', 'vit_giant_patch14_reg4_dinov2', 'vit_giant_patch16_gap_224', 'vit_gigantic_patch14_224', 'vit_gigantic_patch14_clip_224', 'vit_huge_patch14_224', 'vit_huge_patch14_clip_224', 'vit_huge_patch14_clip_336', 'vit_huge_patch14_clip_378', 'vit_huge_patch14_clip_quickgelu_224', 'vit_huge_patch14_clip_quickgelu_378', 'vit_huge_patch14_gap_224', 'vit_huge_patch14_xp_224', 'vit_huge_patch16_gap_448', 'vit_large_patch14_224', 'vit_large_patch14_clip_224', 'vit_large_patch14_clip_336', 'vit_large_patch14_clip_quickgelu_224', 'vit_large_patch14_clip_quickgelu_336', 'vit_large_patch14_dinov2', 'vit_large_patch14_reg4_dinov2', 'vit_large_patch14_xp_224', 'vit_large_patch16_224', 'vit_large_patch16_384', 'vit_large_patch16_siglip_256', 'vit_large_patch16_siglip_384', 'vit_large_patch16_siglip_gap_256', 'vit_large_patch16_siglip_gap_384', 'vit_large_patch32_224', 'vit_large_patch32_384', 'vit_large_r50_s32_224', 'vit_large_r50_s32_384', 'vit_little_patch16_reg1_gap_256', 'vit_little_patch16_reg4_gap_256', 'vit_medium_patch16_clip_224', 'vit_medium_patch16_gap_240', 'vit_medium_patch16_gap_256', 'vit_medium_patch16_gap_384', 'vit_medium_patch16_reg1_gap_256', 'vit_medium_patch16_reg4_gap_256', 'vit_medium_patch16_rope_reg1_gap_256', 'vit_medium_patch32_clip_224', 'vit_mediumd_patch16_reg4_gap_256', 'vit_mediumd_patch16_reg4_gap_384', 'vit_mediumd_patch16_rope_reg1_gap_256', 'vit_pwee_patch16_reg1_gap_256', 'vit_relpos_base_patch16_224', 'vit_relpos_base_patch16_cls_224', 'vit_relpos_base_patch16_clsgap_224', 'vit_relpos_base_patch16_plus_240', 'vit_relpos_base_patch16_rpn_224', 'vit_relpos_base_patch32_plus_rpn_256', 'vit_relpos_medium_patch16_224', 'vit_relpos_medium_patch16_cls_224', 'vit_relpos_medium_patch16_rpn_224', 'vit_relpos_small_patch16_224', 'vit_relpos_small_patch16_rpn_224', 'vit_small_patch8_224', 'vit_small_patch14_dinov2', 'vit_small_patch14_reg4_dinov2', 'vit_small_patch16_18x2_224', 'vit_small_patch16_36x1_224', 'vit_small_patch16_224', 'vit_small_patch16_384', 'vit_small_patch32_224', 'vit_small_patch32_384', 'vit_small_r26_s32_224', 'vit_small_r26_s32_384', 'vit_small_resnet26d_224', 'vit_small_resnet50d_s16_224', 'vit_so150m_patch16_reg4_gap_256', 'vit_so150m_patch16_reg4_map_256', 'vit_so400m_patch14_siglip_224', 'vit_so400m_patch14_siglip_384', 'vit_so400m_patch14_siglip_gap_224', 'vit_so400m_patch14_siglip_gap_384', 'vit_so400m_patch14_siglip_gap_448', 'vit_so400m_patch14_siglip_gap_896', 'vit_srelpos_medium_patch16_224', 'vit_srelpos_small_patch16_224', 'vit_tiny_patch16_224', 'vit_tiny_patch16_384', 'vit_tiny_r_s16_p8_224', 'vit_tiny_r_s16_p8_384', 'vit_wee_patch16_reg1_gap_256', 'vit_xsmall_patch16_clip_224', 'vitamin_base_224', 'vitamin_large2_224', 'vitamin_large2_256', 'vitamin_large2_336', 'vitamin_large2_384', 'vitamin_large_224', 'vitamin_large_256', 'vitamin_large_336', 'vitamin_large_384', 'vitamin_small_224', 'vitamin_xlarge_256', 'vitamin_xlarge_336', 'vitamin_xlarge_384']\n"
          ]
        }
      ],
      "source": [
        "print(timm.list_models('vit*'))\n"
      ]
    },
    {
      "cell_type": "code",
      "execution_count": 22,
      "metadata": {
        "colab": {
          "base_uri": "https://localhost:8080/",
          "height": 173,
          "referenced_widgets": [
            "e09e79e555974d8085b4e745a82ba1f8",
            "2798fb615205447cb63b62d6a7cc62f9",
            "e47baacd39434440b3d352cba0110e24",
            "10a29dc201ff4a969583fee9e16b720f",
            "499f55953a47486899289b613257b1d1",
            "349cb889f9484db9818ba07f28ff3ac7",
            "f3a5f6bd1e9747af88345469d4bd4a1c",
            "b8249cb0d5ad449f85cf57db99ab1ab2",
            "16bd6660312440289f59796b884497e5",
            "5d9dec20f36b46b0b588ed17fba8bf16",
            "b599f30b9876439fa9987ab59359dc85"
          ]
        },
        "id": "Be_PM6eulg4P",
        "outputId": "75fcd62d-1ea5-449a-9464-b0f655673b9d"
      },
      "outputs": [
        {
          "output_type": "stream",
          "name": "stderr",
          "text": [
            "/usr/local/lib/python3.10/dist-packages/huggingface_hub/utils/_token.py:89: UserWarning: \n",
            "The secret `HF_TOKEN` does not exist in your Colab secrets.\n",
            "To authenticate with the Hugging Face Hub, create a token in your settings tab (https://huggingface.co/settings/tokens), set it as secret in your Google Colab and restart your session.\n",
            "You will be able to reuse this secret in all of your notebooks.\n",
            "Please note that authentication is recommended but still optional to access public models or datasets.\n",
            "  warnings.warn(\n"
          ]
        },
        {
          "output_type": "display_data",
          "data": {
            "text/plain": [
              "model.safetensors:   0%|          | 0.00/346M [00:00<?, ?B/s]"
            ],
            "application/vnd.jupyter.widget-view+json": {
              "version_major": 2,
              "version_minor": 0,
              "model_id": "e09e79e555974d8085b4e745a82ba1f8"
            }
          },
          "metadata": {}
        }
      ],
      "source": [
        "vit_model = timm.create_model('vit_base_patch16_224', pretrained=True, num_classes=2)"
      ]
    },
    {
      "cell_type": "markdown",
      "metadata": {
        "id": "-gtZKsANRweG"
      },
      "source": [
        "Train model"
      ]
    },
    {
      "cell_type": "code",
      "source": [
        "import torch\n",
        "import torch.nn as nn\n",
        "from torch.optim import Adam\n",
        "\n",
        "device = torch.device(\"cuda\" if torch.cuda.is_available() else \"cpu\")\n",
        "vit_model.to(device)\n",
        "loss_fn = nn.CrossEntropyLoss()\n",
        "optimizer = Adam(vit_model.parameters(), lr=1e-4)\n",
        "\n",
        "def train_model(dataloader, model, loss_fn, optimizer, epochs):\n",
        "    model.train()  # Set model to training mode\n",
        "    for epoch in range(epochs):\n",
        "        for image_set, label in dataloader:\n",
        "            # Since image_set is already in the shape [batch_size, channels, height, width],\n",
        "            # no need to reshape if dataloader batch_size is 1\n",
        "            image_set = image_set.to(device)\n",
        "            label = label.to(device)\n",
        "\n",
        "            optimizer.zero_grad()\n",
        "\n",
        "            # Forward pass\n",
        "            output = model(image_set)\n",
        "            loss = loss_fn(output, label)\n",
        "\n",
        "            # Backward pass\n",
        "            loss.backward()\n",
        "            optimizer.step()\n",
        "\n",
        "        print(f\"Epoch {epoch+1}, Loss: {loss.item()}\")\n",
        "\n",
        "# Start training\n",
        "\n",
        "# Start training\n",
        "train_model(train_dataloader, vit_model, loss_fn, optimizer, epochs=20)"
      ],
      "metadata": {
        "colab": {
          "base_uri": "https://localhost:8080/"
        },
        "id": "coXeRnOwi6Uj",
        "outputId": "b36ad919-ed62-4aa9-d3db-43735bda0a26"
      },
      "execution_count": 23,
      "outputs": [
        {
          "output_type": "stream",
          "name": "stdout",
          "text": [
            "Epoch 1, Loss: 0.28634509444236755\n",
            "Epoch 2, Loss: 0.2837192714214325\n",
            "Epoch 3, Loss: 0.17762579023838043\n",
            "Epoch 4, Loss: 0.6923994421958923\n",
            "Epoch 5, Loss: 0.4779081344604492\n",
            "Epoch 6, Loss: 0.05190033093094826\n",
            "Epoch 7, Loss: 0.241301491856575\n",
            "Epoch 8, Loss: 0.6428453326225281\n",
            "Epoch 9, Loss: 0.17698000371456146\n",
            "Epoch 10, Loss: 0.07895241677761078\n",
            "Epoch 11, Loss: 0.3817906677722931\n",
            "Epoch 12, Loss: 0.28794795274734497\n",
            "Epoch 13, Loss: 0.28247442841529846\n",
            "Epoch 14, Loss: 0.5663807392120361\n",
            "Epoch 15, Loss: 0.36222097277641296\n",
            "Epoch 16, Loss: 0.23741459846496582\n",
            "Epoch 17, Loss: 0.10509704798460007\n",
            "Epoch 18, Loss: 0.35062119364738464\n",
            "Epoch 19, Loss: 0.10761284828186035\n",
            "Epoch 20, Loss: 0.07635463029146194\n"
          ]
        }
      ]
    },
    {
      "cell_type": "markdown",
      "metadata": {
        "id": "ubo0pPolS7wL"
      },
      "source": [
        "### 6. Using testing data"
      ]
    },
    {
      "cell_type": "markdown",
      "metadata": {
        "id": "5PW-YbmVR3HT"
      },
      "source": [
        "Use testing data"
      ]
    },
    {
      "cell_type": "code",
      "source": [
        "# Path to the directory containing the Breast MRI files\n",
        "folder_path = '/content/drive/MyDrive/VLR_Project/pix2pix/post_3'\n",
        "\n",
        "# List all files in the directory\n",
        "file_list = os.listdir(folder_path)\n",
        "\n",
        "# Create a filter mask for your DataFrame based on filenames present in the folder\n",
        "mask = labels['Patient ID'].apply(lambda x: x + '.png' in file_list)  # Adjust '.extension' as needed\n",
        "\n",
        "# Apply the mask to create the new filtered DataFrame\n",
        "filtered_labels = labels[mask]\n",
        "\n",
        "# Now, filtered_labels contains only the rows that match the files in your folder\n",
        "print(filtered_labels)"
      ],
      "metadata": {
        "colab": {
          "base_uri": "https://localhost:8080/"
        },
        "id": "5oS5hS2i3FPY",
        "outputId": "aec49db8-8031-4163-8dd1-cb894c9dad82"
      },
      "execution_count": 24,
      "outputs": [
        {
          "output_type": "stream",
          "name": "stdout",
          "text": [
            "         Patient ID Recurrence event(s)\n",
            "0    Breast_MRI_001                   0\n",
            "1    Breast_MRI_002                   0\n",
            "2    Breast_MRI_003                   0\n",
            "3    Breast_MRI_004                   0\n",
            "4    Breast_MRI_005                   0\n",
            "..              ...                 ...\n",
            "917  Breast_MRI_918                   0\n",
            "918  Breast_MRI_919                   0\n",
            "919  Breast_MRI_920                   0\n",
            "920  Breast_MRI_921                   0\n",
            "921  Breast_MRI_922                   0\n",
            "\n",
            "[913 rows x 2 columns]\n"
          ]
        }
      ]
    },
    {
      "cell_type": "code",
      "source": [
        "class TestImageDataset(Dataset):\n",
        "    def __init__(self, root_dir, labels_df, exclude_images):\n",
        "        self.subdirs = ['post_3']\n",
        "        self.root_dir = root_dir\n",
        "        self.samples = []\n",
        "\n",
        "        # Convert exclude_images to set for faster lookup\n",
        "        exclude_images_set = set(exclude_images)\n",
        "\n",
        "        # This list will keep the valid labels and their corresponding paths\n",
        "        valid_labels = []\n",
        "        valid_images = []\n",
        "\n",
        "        # Iterate over subdirectories and collect valid images and labels\n",
        "        for subdir in self.subdirs:\n",
        "            full_path = os.path.join(root_dir, subdir)\n",
        "            files_in_dir = os.listdir(full_path)\n",
        "\n",
        "            # Filter and sort filenames to maintain consistent order\n",
        "            filenames = sorted(f for f in files_in_dir if f.lower().endswith(('png', 'jpg', 'jpeg', 'tif', 'tiff')))\n",
        "\n",
        "            # Loop through filenames to build the dataset\n",
        "            for filename in filenames:\n",
        "                basename = os.path.splitext(filename)[0]\n",
        "                if basename not in exclude_images_set:\n",
        "                    valid_images.append(os.path.join(full_path, filename))\n",
        "\n",
        "        # Exclude the labels for the excluded images\n",
        "        # Assuming filenames without extension match the index order of labels\n",
        "        valid_labels = [label for idx, label in enumerate(labels_df['Recurrence event(s)']) if labels_df['Patient ID'][idx] not in exclude_images_set]\n",
        "\n",
        "        # Ensure each image has a corresponding label\n",
        "        for img, lbl in zip(valid_images, valid_labels):\n",
        "            self.samples.append((img, lbl))\n",
        "\n",
        "    def __len__(self):\n",
        "        return len(self.samples)\n",
        "\n",
        "    def __getitem__(self, idx):\n",
        "        image_path, label = self.samples[idx]\n",
        "        image = load_and_preprocess_image(image_path)\n",
        "        return image, label\n",
        "\n",
        "# Example usage\n",
        "root_dir = '/content/drive/MyDrive/VLR_Project/pix2pix'\n",
        "exclude_images = ['Breast_MRI_325', 'Breast_MRI_373']  # Define excluded image IDs\n",
        "# labels_df = pd.DataFrame({\n",
        "#     'ImageID': ['Breast_MRI_001', 'Breast_MRI_002', 'Breast_MRI_325', 'Breast_MRI_373', 'Breast_MRI_005'],\n",
        "#     'Recurrence event(s)': [0, 1, 0, 1, 0]\n",
        "# })\n",
        "labels_df = labels\n",
        "\n",
        "t_dataset = TestImageDataset(root_dir, labels_df, exclude_images)\n",
        "test_dataloader = DataLoader(t_dataset, batch_size=32, shuffle=True, num_workers=4)"
      ],
      "metadata": {
        "id": "dWs0_soJreHl",
        "colab": {
          "base_uri": "https://localhost:8080/"
        },
        "outputId": "57c32c69-574d-4ade-efc2-0f84f41947d2"
      },
      "execution_count": 25,
      "outputs": [
        {
          "output_type": "stream",
          "name": "stderr",
          "text": [
            "/usr/local/lib/python3.10/dist-packages/torch/utils/data/dataloader.py:557: UserWarning: This DataLoader will create 4 worker processes in total. Our suggested max number of worker in current system is 2, which is smaller than what this DataLoader is going to create. Please be aware that excessive worker creation might get DataLoader running slow or even freeze, lower the worker number to avoid potential slowness/freeze if necessary.\n",
            "  warnings.warn(_create_warning_msg(\n"
          ]
        }
      ]
    },
    {
      "cell_type": "code",
      "source": [
        "import torch\n",
        "from torch.nn import functional as F\n",
        "\n",
        "def evaluate_model(dataloader, model):\n",
        "    model.eval()  # Set the model to evaluation mode\n",
        "    total, correct = 0, 0\n",
        "    probabilities, true_labels = [], []\n",
        "\n",
        "    with torch.no_grad():  # No gradients needed for evaluation, which saves memory and computations\n",
        "        for images, labels in dataloader:\n",
        "            images = images.to(device)\n",
        "            labels = labels.to(device)\n",
        "            outputs = model(images)\n",
        "\n",
        "            # For AUC we need probability scores; the raw output from the last layer\n",
        "            probs = torch.sigmoid(outputs).cpu().numpy()\n",
        "            probabilities.extend(probs[:, 1])  # Assuming your model outputs logit for each class\n",
        "\n",
        "            _, predicted = torch.max(outputs.data, 1)\n",
        "            total += labels.size(0)\n",
        "            correct += (predicted == labels).sum().item()\n",
        "\n",
        "            true_labels.extend(labels.cpu().numpy())\n",
        "\n",
        "    accuracy = correct / total\n",
        "    return accuracy, probabilities, true_labels\n",
        "\n",
        "# Then, use this function to get predictions and true labels\n",
        "accuracy, probabilities, true_labels = evaluate_model(test_dataloader, vit_model)\n",
        "print(f\"Accuracy on test data: {accuracy*100:.2f}%\")"
      ],
      "metadata": {
        "colab": {
          "base_uri": "https://localhost:8080/"
        },
        "id": "WT_-hcQSo9ED",
        "outputId": "b54be368-dd84-4fb9-9f58-024d012942b2"
      },
      "execution_count": 26,
      "outputs": [
        {
          "output_type": "stream",
          "name": "stdout",
          "text": [
            "Accuracy on test data: 88.47%\n"
          ]
        }
      ]
    },
    {
      "cell_type": "code",
      "source": [
        "# Now calculate the AUC score\n",
        "from sklearn.metrics import roc_auc_score\n",
        "auc_score = roc_auc_score(true_labels, probabilities)\n",
        "print(f\"AUC score: {auc_score:.2f}\")"
      ],
      "metadata": {
        "colab": {
          "base_uri": "https://localhost:8080/"
        },
        "id": "b5Aci3D3pAuZ",
        "outputId": "2f14a8e7-a4d4-41ed-c59d-461a4534718f"
      },
      "execution_count": 27,
      "outputs": [
        {
          "output_type": "stream",
          "name": "stdout",
          "text": [
            "AUC score: 0.51\n"
          ]
        }
      ]
    },
    {
      "cell_type": "code",
      "source": [
        "from sklearn.metrics import roc_curve, auc"
      ],
      "metadata": {
        "id": "NuHS5qwX4F8o"
      },
      "execution_count": 28,
      "outputs": []
    },
    {
      "cell_type": "code",
      "source": [
        "# Compute ROC curve and ROC area for each class\n",
        "fpr, tpr, thresholds = roc_curve(true_labels, probabilities)\n",
        "roc_auc = auc(fpr, tpr)\n",
        "\n",
        "# Plot of a ROC curve for a specific class\n",
        "plt.figure()\n",
        "plt.plot(fpr, tpr, color='darkorange', lw=2, label='ROC curve (area = %0.2f)' % roc_auc)\n",
        "plt.plot([0, 1], [0, 1], color='navy', lw=2, linestyle='--')\n",
        "plt.xlim([0.0, 1.0])\n",
        "plt.ylim([0.0, 1.05])\n",
        "plt.xlabel('False Positive Rate')\n",
        "plt.ylabel('True Positive Rate')\n",
        "plt.title('Receiver operating characteristic')\n",
        "plt.legend(loc=\"lower right\")\n",
        "plt.show()\n"
      ],
      "metadata": {
        "colab": {
          "base_uri": "https://localhost:8080/",
          "height": 472
        },
        "id": "sgqIlRcfsQRj",
        "outputId": "ef71388d-71a6-4322-c378-8fc79dfee2a9"
      },
      "execution_count": 29,
      "outputs": [
        {
          "output_type": "display_data",
          "data": {
            "text/plain": [
              "<Figure size 640x480 with 1 Axes>"
            ],
            "image/png": "[encoded data removed]"
          },
          "metadata": {}
        }
      ]
    },
    {
      "cell_type": "code",
      "source": [],
      "metadata": {
        "id": "jj0EyVkdU9nD"
      },
      "execution_count": null,
      "outputs": []
    },
    {
      "cell_type": "code",
      "source": [
        "# Path to the directory containing the Breast MRI files\n",
        "folder_path = '/content/drive/MyDrive/VLR_Project/diffusion/post_3'\n",
        "\n",
        "# List all files in the directory\n",
        "file_list = os.listdir(folder_path)\n",
        "\n",
        "# Create a filter mask for your DataFrame based on filenames present in the folder\n",
        "mask = labels['Patient ID'].apply(lambda x: x + '.png' in file_list)  # Adjust '.extension' as needed\n",
        "\n",
        "# Apply the mask to create the new filtered DataFrame\n",
        "filtered_labels = labels[mask]\n",
        "\n",
        "# Now, filtered_labels contains only the rows that match the files in your folder\n",
        "print(filtered_labels)"
      ],
      "metadata": {
        "colab": {
          "base_uri": "https://localhost:8080/"
        },
        "outputId": "939548da-16c9-4b9a-a4e2-2c0c4a1a274d",
        "id": "AhleJkqdU-J4"
      },
      "execution_count": 30,
      "outputs": [
        {
          "output_type": "stream",
          "name": "stdout",
          "text": [
            "         Patient ID Recurrence event(s)\n",
            "0    Breast_MRI_001                   0\n",
            "1    Breast_MRI_002                   0\n",
            "2    Breast_MRI_003                   0\n",
            "3    Breast_MRI_004                   0\n",
            "4    Breast_MRI_005                   0\n",
            "..              ...                 ...\n",
            "917  Breast_MRI_918                   0\n",
            "918  Breast_MRI_919                   0\n",
            "919  Breast_MRI_920                   0\n",
            "920  Breast_MRI_921                   0\n",
            "921  Breast_MRI_922                   0\n",
            "\n",
            "[913 rows x 2 columns]\n"
          ]
        }
      ]
    },
    {
      "cell_type": "code",
      "source": [
        "class TestImageDataset(Dataset):\n",
        "    def __init__(self, root_dir, labels_df, exclude_images):\n",
        "        self.subdirs = ['post_3']\n",
        "        self.root_dir = root_dir\n",
        "        self.samples = []\n",
        "\n",
        "        # Convert exclude_images to set for faster lookup\n",
        "        exclude_images_set = set(exclude_images)\n",
        "\n",
        "        # This list will keep the valid labels and their corresponding paths\n",
        "        valid_labels = []\n",
        "        valid_images = []\n",
        "\n",
        "        # Iterate over subdirectories and collect valid images and labels\n",
        "        for subdir in self.subdirs:\n",
        "            full_path = os.path.join(root_dir, subdir)\n",
        "            files_in_dir = os.listdir(full_path)\n",
        "\n",
        "            # Filter and sort filenames to maintain consistent order\n",
        "            filenames = sorted(f for f in files_in_dir if f.lower().endswith(('png', 'jpg', 'jpeg', 'tif', 'tiff')))\n",
        "\n",
        "            # Loop through filenames to build the dataset\n",
        "            for filename in filenames:\n",
        "                basename = os.path.splitext(filename)[0]\n",
        "                if basename not in exclude_images_set:\n",
        "                    valid_images.append(os.path.join(full_path, filename))\n",
        "\n",
        "        # Exclude the labels for the excluded images\n",
        "        # Assuming filenames without extension match the index order of labels\n",
        "        valid_labels = [label for idx, label in enumerate(labels_df['Recurrence event(s)']) if labels_df['Patient ID'][idx] not in exclude_images_set]\n",
        "\n",
        "        # Ensure each image has a corresponding label\n",
        "        for img, lbl in zip(valid_images, valid_labels):\n",
        "            self.samples.append((img, lbl))\n",
        "\n",
        "    def __len__(self):\n",
        "        return len(self.samples)\n",
        "\n",
        "    def __getitem__(self, idx):\n",
        "        image_path, label = self.samples[idx]\n",
        "        image = load_and_preprocess_image(image_path)\n",
        "        return image, label\n",
        "\n",
        "# Example usage\n",
        "root_dir = '/content/drive/MyDrive/VLR_Project/diffusion'\n",
        "exclude_images = ['Breast_MRI_325', 'Breast_MRI_373']  # Define excluded image IDs\n",
        "# labels_df = pd.DataFrame({\n",
        "#     'ImageID': ['Breast_MRI_001', 'Breast_MRI_002', 'Breast_MRI_325', 'Breast_MRI_373', 'Breast_MRI_005'],\n",
        "#     'Recurrence event(s)': [0, 1, 0, 1, 0]\n",
        "# })\n",
        "labels_df = labels\n",
        "\n",
        "t_dataset = TestImageDataset(root_dir, labels_df, exclude_images)\n",
        "test_dataloader = DataLoader(t_dataset, batch_size=32, shuffle=True, num_workers=4)"
      ],
      "metadata": {
        "colab": {
          "base_uri": "https://localhost:8080/"
        },
        "outputId": "dfb89f22-1664-4a7a-cf27-0b257ac5718e",
        "id": "3XV65dxrU-J5"
      },
      "execution_count": 34,
      "outputs": [
        {
          "output_type": "stream",
          "name": "stderr",
          "text": [
            "/usr/local/lib/python3.10/dist-packages/torch/utils/data/dataloader.py:557: UserWarning: This DataLoader will create 4 worker processes in total. Our suggested max number of worker in current system is 2, which is smaller than what this DataLoader is going to create. Please be aware that excessive worker creation might get DataLoader running slow or even freeze, lower the worker number to avoid potential slowness/freeze if necessary.\n",
            "  warnings.warn(_create_warning_msg(\n"
          ]
        }
      ]
    },
    {
      "cell_type": "code",
      "source": [
        "import torch\n",
        "from torch.nn import functional as F\n",
        "\n",
        "def evaluate_model(dataloader, model):\n",
        "    model.eval()  # Set the model to evaluation mode\n",
        "    total, correct = 0, 0\n",
        "    probabilities, true_labels = [], []\n",
        "\n",
        "    with torch.no_grad():  # No gradients needed for evaluation, which saves memory and computations\n",
        "        for images, labels in dataloader:\n",
        "            images = images.to(device)\n",
        "            labels = labels.to(device)\n",
        "            outputs = model(images)\n",
        "\n",
        "            # For AUC we need probability scores; the raw output from the last layer\n",
        "            probs = torch.sigmoid(outputs).cpu().numpy()\n",
        "            probabilities.extend(probs[:, 1])  # Assuming your model outputs logit for each class\n",
        "\n",
        "            _, predicted = torch.max(outputs.data, 1)\n",
        "            total += labels.size(0)\n",
        "            correct += (predicted == labels).sum().item()\n",
        "\n",
        "            true_labels.extend(labels.cpu().numpy())\n",
        "\n",
        "    accuracy = correct / total\n",
        "    return accuracy, probabilities, true_labels\n",
        "\n",
        "# Then, use this function to get predictions and true labels\n",
        "accuracy, probabilities, true_labels = evaluate_model(test_dataloader, vit_model)\n",
        "print(f\"Accuracy on test data: {accuracy*100:.2f}%\")"
      ],
      "metadata": {
        "colab": {
          "base_uri": "https://localhost:8080/"
        },
        "outputId": "0d5519e6-3ca2-4270-f1e4-a8f9bb934c09",
        "id": "umdlB3z_U-J5"
      },
      "execution_count": 35,
      "outputs": [
        {
          "output_type": "stream",
          "name": "stdout",
          "text": [
            "Accuracy on test data: 89.76%\n"
          ]
        }
      ]
    },
    {
      "cell_type": "code",
      "source": [
        "# Now calculate the AUC score\n",
        "from sklearn.metrics import roc_auc_score\n",
        "auc_score = roc_auc_score(true_labels, probabilities)\n",
        "print(f\"AUC score: {auc_score:.2f}\")"
      ],
      "metadata": {
        "colab": {
          "base_uri": "https://localhost:8080/"
        },
        "outputId": "104a8daa-8068-4766-8138-6f976c554741",
        "id": "xSAj5xXUU-J6"
      },
      "execution_count": 36,
      "outputs": [
        {
          "output_type": "stream",
          "name": "stdout",
          "text": [
            "AUC score: 0.53\n"
          ]
        }
      ]
    },
    {
      "cell_type": "code",
      "source": [
        "from sklearn.metrics import roc_curve, auc"
      ],
      "metadata": {
        "id": "ZHTb7fpSU-J6"
      },
      "execution_count": 37,
      "outputs": []
    },
    {
      "cell_type": "code",
      "source": [
        "# Compute ROC curve and ROC area for each class\n",
        "fpr, tpr, thresholds = roc_curve(true_labels, probabilities)\n",
        "roc_auc = auc(fpr, tpr)\n",
        "\n",
        "# Plot of a ROC curve for a specific class\n",
        "plt.figure()\n",
        "plt.plot(fpr, tpr, color='darkorange', lw=2, label='ROC curve (area = %0.2f)' % roc_auc)\n",
        "plt.plot([0, 1], [0, 1], color='navy', lw=2, linestyle='--')\n",
        "plt.xlim([0.0, 1.0])\n",
        "plt.ylim([0.0, 1.05])\n",
        "plt.xlabel('False Positive Rate')\n",
        "plt.ylabel('True Positive Rate')\n",
        "plt.title('Receiver operating characteristic')\n",
        "plt.legend(loc=\"lower right\")\n",
        "plt.show()\n"
      ],
      "metadata": {
        "colab": {
          "base_uri": "https://localhost:8080/",
          "height": 472
        },
        "outputId": "6f463a7d-607f-4e43-ee84-1a7cc0c51474",
        "id": "2kudeS4uU-J7"
      },
      "execution_count": 38,
      "outputs": [
        {
          "output_type": "display_data",
          "data": {
            "text/plain": [
              "<Figure size 640x480 with 1 Axes>"
            ],
            "image/png": "[encoded data removed]"
          },
          "metadata": {}
        }
      ]
    }
  ],
  "metadata": {
    "accelerator": "GPU",
    "colab": {
      "gpuType": "T4",
      "provenance": [],
      "include_colab_link": true
    },
    "kernelspec": {
      "display_name": "Python 3",
      "name": "python3"
    },
    "language_info": {
      "name": "python"
    },
    "widgets": {
      "application/vnd.jupyter.widget-state+json": {
        "e09e79e555974d8085b4e745a82ba1f8": {
          "model_module": "@jupyter-widgets/controls",
          "model_name": "HBoxModel",
          "model_module_version": "1.5.0",
          "state": {
            "_dom_classes": [],
            "_model_module": "@jupyter-widgets/controls",
            "_model_module_version": "1.5.0",
            "_model_name": "HBoxModel",
            "_view_count": null,
            "_view_module": "@jupyter-widgets/controls",
            "_view_module_version": "1.5.0",
            "_view_name": "HBoxView",
            "box_style": "",
            "children": [
              "IPY_MODEL_2798fb615205447cb63b62d6a7cc62f9",
              "IPY_MODEL_e47baacd39434440b3d352cba0110e24",
              "IPY_MODEL_10a29dc201ff4a969583fee9e16b720f"
            ],
            "layout": "IPY_MODEL_499f55953a47486899289b613257b1d1"
          }
        },
        "2798fb615205447cb63b62d6a7cc62f9": {
          "model_module": "@jupyter-widgets/controls",
          "model_name": "HTMLModel",
          "model_module_version": "1.5.0",
          "state": {
            "_dom_classes": [],
            "_model_module": "@jupyter-widgets/controls",
            "_model_module_version": "1.5.0",
            "_model_name": "HTMLModel",
            "_view_count": null,
            "_view_module": "@jupyter-widgets/controls",
            "_view_module_version": "1.5.0",
            "_view_name": "HTMLView",
            "description": "",
            "description_tooltip": null,
            "layout": "IPY_MODEL_349cb889f9484db9818ba07f28ff3ac7",
            "placeholder": "​",
            "style": "IPY_MODEL_f3a5f6bd1e9747af88345469d4bd4a1c",
            "value": "model.safetensors: 100%"
          }
        },
        "e47baacd39434440b3d352cba0110e24": {
          "model_module": "@jupyter-widgets/controls",
          "model_name": "FloatProgressModel",
          "model_module_version": "1.5.0",
          "state": {
            "_dom_classes": [],
            "_model_module": "@jupyter-widgets/controls",
            "_model_module_version": "1.5.0",
            "_model_name": "FloatProgressModel",
            "_view_count": null,
            "_view_module": "@jupyter-widgets/controls",
            "_view_module_version": "1.5.0",
            "_view_name": "ProgressView",
            "bar_style": "success",
            "description": "",
            "description_tooltip": null,
            "layout": "IPY_MODEL_b8249cb0d5ad449f85cf57db99ab1ab2",
            "max": 346284714,
            "min": 0,
            "orientation": "horizontal",
            "style": "IPY_MODEL_16bd6660312440289f59796b884497e5",
            "value": 346284714
          }
        },
        "10a29dc201ff4a969583fee9e16b720f": {
          "model_module": "@jupyter-widgets/controls",
          "model_name": "HTMLModel",
          "model_module_version": "1.5.0",
          "state": {
            "_dom_classes": [],
            "_model_module": "@jupyter-widgets/controls",
            "_model_module_version": "1.5.0",
            "_model_name": "HTMLModel",
            "_view_count": null,
            "_view_module": "@jupyter-widgets/controls",
            "_view_module_version": "1.5.0",
            "_view_name": "HTMLView",
            "description": "",
            "description_tooltip": null,
            "layout": "IPY_MODEL_5d9dec20f36b46b0b588ed17fba8bf16",
            "placeholder": "​",
            "style": "IPY_MODEL_b599f30b9876439fa9987ab59359dc85",
            "value": " 346M/346M [00:02&lt;00:00, 146MB/s]"
          }
        },
        "499f55953a47486899289b613257b1d1": {
          "model_module": "@jupyter-widgets/base",
          "model_name": "LayoutModel",
          "model_module_version": "1.2.0",
          "state": {
            "_model_module": "@jupyter-widgets/base",
            "_model_module_version": "1.2.0",
            "_model_name": "LayoutModel",
            "_view_count": null,
            "_view_module": "@jupyter-widgets/base",
            "_view_module_version": "1.2.0",
            "_view_name": "LayoutView",
            "align_content": null,
            "align_items": null,
            "align_self": null,
            "border": null,
            "bottom": null,
            "display": null,
            "flex": null,
            "flex_flow": null,
            "grid_area": null,
            "grid_auto_columns": null,
            "grid_auto_flow": null,
            "grid_auto_rows": null,
            "grid_column": null,
            "grid_gap": null,
            "grid_row": null,
            "grid_template_areas": null,
            "grid_template_columns": null,
            "grid_template_rows": null,
            "height": null,
            "justify_content": null,
            "justify_items": null,
            "left": null,
            "margin": null,
            "max_height": null,
            "max_width": null,
            "min_height": null,
            "min_width": null,
            "object_fit": null,
            "object_position": null,
            "order": null,
            "overflow": null,
            "overflow_x": null,
            "overflow_y": null,
            "padding": null,
            "right": null,
            "top": null,
            "visibility": null,
            "width": null
          }
        },
        "349cb889f9484db9818ba07f28ff3ac7": {
          "model_module": "@jupyter-widgets/base",
          "model_name": "LayoutModel",
          "model_module_version": "1.2.0",
          "state": {
            "_model_module": "@jupyter-widgets/base",
            "_model_module_version": "1.2.0",
            "_model_name": "LayoutModel",
            "_view_count": null,
            "_view_module": "@jupyter-widgets/base",
            "_view_module_version": "1.2.0",
            "_view_name": "LayoutView",
            "align_content": null,
            "align_items": null,
            "align_self": null,
            "border": null,
            "bottom": null,
            "display": null,
            "flex": null,
            "flex_flow": null,
            "grid_area": null,
            "grid_auto_columns": null,
            "grid_auto_flow": null,
            "grid_auto_rows": null,
            "grid_column": null,
            "grid_gap": null,
            "grid_row": null,
            "grid_template_areas": null,
            "grid_template_columns": null,
            "grid_template_rows": null,
            "height": null,
            "justify_content": null,
            "justify_items": null,
            "left": null,
            "margin": null,
            "max_height": null,
            "max_width": null,
            "min_height": null,
            "min_width": null,
            "object_fit": null,
            "object_position": null,
            "order": null,
            "overflow": null,
            "overflow_x": null,
            "overflow_y": null,
            "padding": null,
            "right": null,
            "top": null,
            "visibility": null,
            "width": null
          }
        },
        "f3a5f6bd1e9747af88345469d4bd4a1c": {
          "model_module": "@jupyter-widgets/controls",
          "model_name": "DescriptionStyleModel",
          "model_module_version": "1.5.0",
          "state": {
            "_model_module": "@jupyter-widgets/controls",
            "_model_module_version": "1.5.0",
            "_model_name": "DescriptionStyleModel",
            "_view_count": null,
            "_view_module": "@jupyter-widgets/base",
            "_view_module_version": "1.2.0",
            "_view_name": "StyleView",
            "description_width": ""
          }
        },
        "b8249cb0d5ad449f85cf57db99ab1ab2": {
          "model_module": "@jupyter-widgets/base",
          "model_name": "LayoutModel",
          "model_module_version": "1.2.0",
          "state": {
            "_model_module": "@jupyter-widgets/base",
            "_model_module_version": "1.2.0",
            "_model_name": "LayoutModel",
            "_view_count": null,
            "_view_module": "@jupyter-widgets/base",
            "_view_module_version": "1.2.0",
            "_view_name": "LayoutView",
            "align_content": null,
            "align_items": null,
            "align_self": null,
            "border": null,
            "bottom": null,
            "display": null,
            "flex": null,
            "flex_flow": null,
            "grid_area": null,
            "grid_auto_columns": null,
            "grid_auto_flow": null,
            "grid_auto_rows": null,
            "grid_column": null,
            "grid_gap": null,
            "grid_row": null,
            "grid_template_areas": null,
            "grid_template_columns": null,
            "grid_template_rows": null,
            "height": null,
            "justify_content": null,
            "justify_items": null,
            "left": null,
            "margin": null,
            "max_height": null,
            "max_width": null,
            "min_height": null,
            "min_width": null,
            "object_fit": null,
            "object_position": null,
            "order": null,
            "overflow": null,
            "overflow_x": null,
            "overflow_y": null,
            "padding": null,
            "right": null,
            "top": null,
            "visibility": null,
            "width": null
          }
        },
        "16bd6660312440289f59796b884497e5": {
          "model_module": "@jupyter-widgets/controls",
          "model_name": "ProgressStyleModel",
          "model_module_version": "1.5.0",
          "state": {
            "_model_module": "@jupyter-widgets/controls",
            "_model_module_version": "1.5.0",
            "_model_name": "ProgressStyleModel",
            "_view_count": null,
            "_view_module": "@jupyter-widgets/base",
            "_view_module_version": "1.2.0",
            "_view_name": "StyleView",
            "bar_color": null,
            "description_width": ""
          }
        },
        "5d9dec20f36b46b0b588ed17fba8bf16": {
          "model_module": "@jupyter-widgets/base",
          "model_name": "LayoutModel",
          "model_module_version": "1.2.0",
          "state": {
            "_model_module": "@jupyter-widgets/base",
            "_model_module_version": "1.2.0",
            "_model_name": "LayoutModel",
            "_view_count": null,
            "_view_module": "@jupyter-widgets/base",
            "_view_module_version": "1.2.0",
            "_view_name": "LayoutView",
            "align_content": null,
            "align_items": null,
            "align_self": null,
            "border": null,
            "bottom": null,
            "display": null,
            "flex": null,
            "flex_flow": null,
            "grid_area": null,
            "grid_auto_columns": null,
            "grid_auto_flow": null,
            "grid_auto_rows": null,
            "grid_column": null,
            "grid_gap": null,
            "grid_row": null,
            "grid_template_areas": null,
            "grid_template_columns": null,
            "grid_template_rows": null,
            "height": null,
            "justify_content": null,
            "justify_items": null,
            "left": null,
            "margin": null,
            "max_height": null,
            "max_width": null,
            "min_height": null,
            "min_width": null,
            "object_fit": null,
            "object_position": null,
            "order": null,
            "overflow": null,
            "overflow_x": null,
            "overflow_y": null,
            "padding": null,
            "right": null,
            "top": null,
            "visibility": null,
            "width": null
          }
        },
        "b599f30b9876439fa9987ab59359dc85": {
          "model_module": "@jupyter-widgets/controls",
          "model_name": "DescriptionStyleModel",
          "model_module_version": "1.5.0",
          "state": {
            "_model_module": "@jupyter-widgets/controls",
            "_model_module_version": "1.5.0",
            "_model_name": "DescriptionStyleModel",
            "_view_count": null,
            "_view_module": "@jupyter-widgets/base",
            "_view_module_version": "1.2.0",
            "_view_name": "StyleView",
            "description_width": ""
          }
        }
      }
    }
  },
  "nbformat": 4,
  "nbformat_minor": 0
}